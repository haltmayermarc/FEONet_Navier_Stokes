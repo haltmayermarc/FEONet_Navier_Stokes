{
 "cells": [
  {
   "cell_type": "code",
   "execution_count": 10,
   "id": "4823a13a",
   "metadata": {},
   "outputs": [],
   "source": [
    "import numpy as np\n",
    "from scipy.sparse import diags\n",
    "from scipy.sparse import identity\n",
    "from scipy.sparse.linalg import onenormest\n",
    "from tqdm import tqdm "
   ]
  },
  {
   "cell_type": "code",
   "execution_count": 11,
   "id": "789868cc",
   "metadata": {},
   "outputs": [],
   "source": [
    "def spai(A, m):\n",
    "    \"\"\"Perform m step of the SPAI iteration.\"\"\"\n",
    "\n",
    "    n = A.shape[0]\n",
    "\n",
    "    ident = identity(n, format='csr')\n",
    "    alpha = 2 / onenormest(A @ A.T)\n",
    "    M = alpha * A\n",
    "\n",
    "    for _ in tqdm(range(m)):\n",
    "        C = A @ M\n",
    "        G = ident - C\n",
    "        AG = A @ G\n",
    "        trace = (G.T @ AG).diagonal().sum()\n",
    "        alpha = trace / np.linalg.norm(AG.data)**2\n",
    "        M = M + alpha * G\n",
    "\n",
    "    return M"
   ]
  },
  {
   "cell_type": "code",
   "execution_count": 3,
   "id": "51da0589",
   "metadata": {},
   "outputs": [],
   "source": [
    "mesh = np.load(\"/home/haltmayermarc/FEONet_Stokes/FEONet_Stokes_square_copy/data_ordered/P2x1_ne72_stokes_channel_flow_BC.npz\")"
   ]
  },
  {
   "cell_type": "code",
   "execution_count": 8,
   "id": "6cd1bdb8",
   "metadata": {},
   "outputs": [
    {
     "data": {
      "text/plain": [
       "np.float64(167.32636402645198)"
      ]
     },
     "execution_count": 8,
     "metadata": {},
     "output_type": "execute_result"
    }
   ],
   "source": [
    "matrix = mesh[\"matrix\"]\n",
    "cond_number = np.linalg.cond(matrix)\n",
    "cond_number"
   ]
  },
  {
   "cell_type": "code",
   "execution_count": 22,
   "id": "0d5a8b3d",
   "metadata": {},
   "outputs": [
    {
     "name": "stderr",
     "output_type": "stream",
     "text": [
      "100%|██████████| 20000/20000 [10:37<00:00, 31.39it/s]\n"
     ]
    }
   ],
   "source": [
    "precond = spai(matrix,20000)\n",
    "new_matrix = matrix @ precond"
   ]
  },
  {
   "cell_type": "code",
   "execution_count": 25,
   "id": "087355cc",
   "metadata": {},
   "outputs": [],
   "source": [
    "np.save(\"/home/haltmayermarc/FEONet_Stokes/FEONet_Stokes_square_copy/precond_72_channel_flow.npy\", precond)"
   ]
  },
  {
   "cell_type": "code",
   "execution_count": 23,
   "id": "3a2f9b47",
   "metadata": {},
   "outputs": [
    {
     "data": {
      "text/plain": [
       "np.float64(1.4890170268235305)"
      ]
     },
     "execution_count": 23,
     "metadata": {},
     "output_type": "execute_result"
    }
   ],
   "source": [
    "new_cond_number = np.linalg.cond(new_matrix)\n",
    "new_cond_number"
   ]
  }
 ],
 "metadata": {
  "kernelspec": {
   "display_name": "fenics",
   "language": "python",
   "name": "python3"
  },
  "language_info": {
   "codemirror_mode": {
    "name": "ipython",
    "version": 3
   },
   "file_extension": ".py",
   "mimetype": "text/x-python",
   "name": "python",
   "nbconvert_exporter": "python",
   "pygments_lexer": "ipython3",
   "version": "3.11.12"
  }
 },
 "nbformat": 4,
 "nbformat_minor": 5
}
