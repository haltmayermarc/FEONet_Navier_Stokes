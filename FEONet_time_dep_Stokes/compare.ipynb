{
 "cells": [
  {
   "cell_type": "code",
   "execution_count": 1,
   "id": "205f7fb3",
   "metadata": {},
   "outputs": [
    {
     "name": "stderr",
     "output_type": "stream",
     "text": [
      "/home/haltmayermarc/anaconda3/envs/fenics/lib/python3.11/site-packages/dolfin/jit/jit.py:121: RuntimeWarning: mpi4py.MPI.Session size changed, may indicate binary incompatibility. Expected 32 from C header, got 40 from PyObject\n",
      "  def compile_class(cpp_data, mpi_comm=MPI.comm_world):\n"
     ]
    }
   ],
   "source": [
    "import numpy as np\n",
    "import pandas as pd\n",
    "import scipy\n",
    "from scipy import io\n",
    "import matplotlib.pyplot as plt\n",
    "from mpl_toolkits.mplot3d import Axes3D\n",
    "from tqdm import tqdm\n",
    "import time\n",
    "from datetime import datetime\n",
    "import os\n",
    "import random\n",
    "import sys\n",
    "import torch\n",
    "import torch.nn as nn\n",
    "import torch.nn.functional as F\n",
    "from torch.utils.data import Dataset, DataLoader\n",
    "from dolfin import *\n",
    "from mshr import *\n",
    "import math"
   ]
  },
  {
   "cell_type": "code",
   "execution_count": 5,
   "id": "6faa70a1",
   "metadata": {},
   "outputs": [],
   "source": [
    "class RandomNoSlipIC(UserExpression):\n",
    "    def __init__(self, ks, ls, amps, degree=4, **kwargs):\n",
    "        super().__init__(degree=degree, **kwargs)\n",
    "        self.ks = np.array(ks, dtype=int)\n",
    "        self.ls = np.array(ls, dtype=int)\n",
    "        self.amps = np.array(amps, dtype=float)\n",
    "        self.pi = math.pi\n",
    "\n",
    "    def eval(self, values, x):\n",
    "        X, Y = float(x[0]), float(x[1])\n",
    "        ux, uy = 0.0, 0.0\n",
    "        for k, l, a in zip(self.ks, self.ls, self.amps):\n",
    "            sx = math.sin(k * self.pi * X)\n",
    "            sy = math.sin(l * self.pi * Y)\n",
    "            cx = math.cos(k * self.pi * X)\n",
    "            cy = math.cos(l * self.pi * Y)\n",
    "            # u = (∂ψ/∂y, -∂ψ/∂x), ψ = sin²(kπx) sin²(lπy)\n",
    "            ux += a * (2.0 * (sx * sx) * sy * cy * l * self.pi)\n",
    "            uy += a * (-2.0 * sx * cx * (sy * sy) * k * self.pi)\n",
    "        values[0] = ux\n",
    "        values[1] = uy\n",
    "\n",
    "    def value_shape(self):\n",
    "        return (2,)\n",
    "\n",
    "def random_ic_expression(n_modes=3, kmax=4, lmax=4, amp=1.0, seed=None, degree=4):\n",
    "    rng = np.random.default_rng(seed)\n",
    "    ks = rng.integers(1, kmax+1, size=n_modes)\n",
    "    ls = rng.integers(1, lmax+1, size=n_modes)\n",
    "    scales = (ks**2 + ls**2)**(-0.5)  # decay to keep smooth\n",
    "    amps = amp * rng.normal(size=n_modes) * scales\n",
    "    return RandomNoSlipIC(ks=ks, ls=ls, amps=amps, degree=degree)\n",
    "\n",
    "def u_ini_0(m0, n0, grid):\n",
    "  grid=torch.tensor(grid)\n",
    "  return -5.0+m0*torch.sin(n0*grid[:,0])*torch.sin(grid[:,1])\n",
    "\n",
    "def u_ini_1(m1, n1, grid):\n",
    "  grid=torch.tensor(grid)\n",
    "  return 0.0+m1*torch.cos(n1*grid[:,0])*torch.sin(grid[:,1])"
   ]
  },
  {
   "cell_type": "code",
   "execution_count": 2,
   "id": "c612da85",
   "metadata": {},
   "outputs": [
    {
     "name": "stderr",
     "output_type": "stream",
     "text": [
      "/home/haltmayermarc/anaconda3/envs/fenics/lib/python3.11/site-packages/dolfin/jit/jit.py:46: RuntimeWarning: mpi4py.MPI.Session size changed, may indicate binary incompatibility. Expected 32 from C header, got 40 from PyObject\n",
      "  if MPI.size(mpi_comm) == 1:\n"
     ]
    }
   ],
   "source": [
    "dt = 0.1\n",
    "num_xy = 10\n",
    "T=[0,1]\n",
    "grid_t=np.arange(T[0],T[1]+dt,dt)\n",
    "\n",
    "mesh = RectangleMesh(Point(0, 0), Point(1,1), num_xy, num_xy)\n",
    "\n",
    "# Define the function spaces:\n",
    "V = VectorElement('CG', triangle, 2)\n",
    "Q = FiniteElement('CG', triangle, 1)\n",
    "TH = V * Q\n",
    "W = FunctionSpace(mesh, TH)\n",
    "\n",
    "# Define the Dirichlet BC\n",
    "SlipRate = Expression ( ( \"-5.0\", \"0.0\" ), degree=3)\n",
    "def LowerBoundary ( x, on_boundary ):\n",
    "    return x[1] < DOLFIN_EPS and on_boundary\n",
    "bc = DirichletBC(W.sub ( 0 ), SlipRate, LowerBoundary)\n",
    "#zero = Constant((0.0, 0.0))   # if W.sub(0) is vector-valued\n",
    "#bc = DirichletBC(W.sub(0), zero, 'on_boundary')\n",
    "\n",
    "#  Define the variational problem\n",
    "( u, p ) = TrialFunctions ( W )\n",
    "( v, q ) = TestFunctions ( W )\n",
    "#  Material viscosity, Pa-sec.\n",
    "mu=1\n",
    "a = ( mu * inner(grad(v), grad(u)) \\\n",
    "    - div ( v )* p + q * div ( u ) ) * dx\n",
    "f = Constant ( ( 5.0, -5.0) )\n",
    "l = inner ( v, f ) * dx\n",
    "\n",
    "w = Function(W)\n",
    "\n",
    "#  Matrix assembly.\n",
    "## We will do (S/dt+A) @ newcoeff = (S/dt) @ old_coeff + load_vector\n",
    "## Therefore, newcoeff = (S/dt+A)^-1 @ [(S/dt) @ old_coeff + load_vector]\n",
    "s = inner(v,u) * dx\n",
    "S = assemble(s)\n",
    "bc.apply(S)\n",
    "S = S.array()\n",
    "\n",
    "A = assemble(a)\n",
    "bc.apply(A)\n",
    "A = A.array()\n",
    "\n",
    "L = assemble(l)\n",
    "bc.apply(L)\n",
    "load_vector = L.get_local()\n",
    "\n",
    "ne=mesh.cells().shape[0]\n",
    "\n",
    "# FENiCS ordering\n",
    "pos_u1=W.sub(0).sub(0).collapse().tabulate_dof_coordinates()\n",
    "pos_u2=W.sub(0).sub(1).collapse().tabulate_dof_coordinates()\n",
    "pos_p=W.sub(1).collapse().tabulate_dof_coordinates()\n",
    "\n",
    "# numerical ordering\n",
    "pos_all=W.tabulate_dof_coordinates()\n",
    "idx_u1=W.sub(0).sub(0).dofmap().dofs()\n",
    "idx_u2=W.sub(0).sub(1).dofmap().dofs()\n",
    "idx_p=W.sub(1).dofmap().dofs()\n",
    "\n",
    "# Construct the permutations for re-indexing\n",
    "row_to_index_u1 = {tuple(row): i for i, row in enumerate(pos_u1)}\n",
    "row_to_index_u2 = {tuple(row): i for i, row in enumerate(pos_u2)}\n",
    "row_to_index_p = {tuple(row): i for i, row in enumerate(pos_p)}\n",
    "perm_u1 = np.array([row_to_index_u1[tuple(row)] for row in pos_all[idx_u1]])\n",
    "perm_u2 = np.array([row_to_index_u2[tuple(row)] for row in pos_all[idx_u2]])\n",
    "perm_p = np.array([row_to_index_p[tuple(row)] for row in pos_all[idx_p]])\n",
    "  \n",
    "ng=pos_all.shape[0]\n",
    "\n",
    "idx_bdry0_pts=list(bc.get_boundary_values().keys())\n",
    "\n",
    "gfl = np.zeros((ng,1))\n",
    "gfl[idx_bdry0_pts]=1\n",
    "  \n",
    "idx_sol=[idx_u1,idx_u2,idx_p]\n",
    "idx_sol=np.array(idx_sol, dtype=object)"
   ]
  },
  {
   "cell_type": "code",
   "execution_count": 3,
   "id": "32231be2",
   "metadata": {},
   "outputs": [
    {
     "name": "stdout",
     "output_type": "stream",
     "text": [
      "Solving linear variational problem.\n"
     ]
    }
   ],
   "source": [
    "#u_init = random_ic_expression(n_modes=5, kmax=4, lmax=4, amp=1.0, seed=5, degree=4)\n",
    "m0, m1 = 2+np.random.rand(2)\n",
    "n0, n1= 2*np.pi*(np.random.rand(2))\n",
    "u_init = Expression ( ( \"-5.0+m0*sin(n0*x[0])*sin(x[1])\", \"0.0+m1*cos(n1*x[0])*sin(x[1])\" ), degree=5, m0=m0, m1=m1, n0=n0, n1=n1 )\n",
    "u_b = project(u_init, W.sub ( 0 ).collapse())\n",
    "u_b_vector = u_b.vector()[:]\n",
    "u_b_vector_x = u_b.sub(0, deepcopy=True).vector()[:]\n",
    "u_b_vector_y = u_b.sub(1, deepcopy=True).vector()[:]\n",
    "\n",
    "DT = Constant(dt)\n",
    "u_t = (1/DT) * inner ( v, (u-u_b) ) * dx\n",
    "\n",
    "F = u_t + a - l\n",
    "\n",
    "LHS = lhs(F)\n",
    "RHS = rhs(F)\n",
    "\n",
    "solve(LHS==RHS, w, bc)\n",
    "(u, p) = w.split(deepcopy=True)\n",
    "sol_u1=u.sub(0, deepcopy=True).vector()[:]\n",
    "sol_u2=u.sub(1, deepcopy=True).vector()[:]\n",
    "sol_p=p.vector()[:]"
   ]
  },
  {
   "cell_type": "code",
   "execution_count": 6,
   "id": "4a77eb43",
   "metadata": {},
   "outputs": [
    {
     "name": "stdout",
     "output_type": "stream",
     "text": [
      "0.0002775316833592231\n",
      "0.1905345399666986\n",
      "0.08948881492754213\n",
      "#########\n",
      "0.19054129939131476\n",
      "0.0002775316833592231\n",
      "0.1905345399666986\n"
     ]
    },
    {
     "name": "stderr",
     "output_type": "stream",
     "text": [
      "/tmp/ipykernel_683923/2566274105.py:1: DeprecationWarning: __array__ implementation doesn't accept a copy keyword, so passing copy=False failed. __array__ must implement 'dtype' and 'copy' keyword arguments. To learn more, see the migration guide https://numpy.org/devdocs/numpy_2_0_migration_guide.html#adapting-to-changes-in-the-copy-keyword\n",
      "  u_test_pos_u2 = np.array(u_ini_1(m1,n1,pos_u2))\n",
      "/tmp/ipykernel_683923/2566274105.py:2: DeprecationWarning: __array__ implementation doesn't accept a copy keyword, so passing copy=False failed. __array__ must implement 'dtype' and 'copy' keyword arguments. To learn more, see the migration guide https://numpy.org/devdocs/numpy_2_0_migration_guide.html#adapting-to-changes-in-the-copy-keyword\n",
      "  u_test_pos_all = np.array(u_ini_1(m1,n1,pos_all[idx_sol[1]]))\n",
      "/tmp/ipykernel_683923/2566274105.py:3: DeprecationWarning: __array__ implementation doesn't accept a copy keyword, so passing copy=False failed. __array__ must implement 'dtype' and 'copy' keyword arguments. To learn more, see the migration guide https://numpy.org/devdocs/numpy_2_0_migration_guide.html#adapting-to-changes-in-the-copy-keyword\n",
      "  u_test_pos_all_ordered = np.array(u_ini_1(m1,n1,pos_all[idx_u2]))[perm_u2]\n"
     ]
    }
   ],
   "source": [
    "u_test_pos_u2 = np.array(u_ini_1(m1,n1,pos_u2))\n",
    "u_test_pos_all = np.array(u_ini_1(m1,n1,pos_all[idx_sol[1]]))\n",
    "u_test_pos_all_ordered = np.array(u_ini_1(m1,n1,pos_all[idx_u2]))[perm_u2]\n",
    "u_b_vector_y_ordered = u_b_vector_y[perm_u2]\n",
    "\n",
    "print(np.linalg.norm(u_b_vector_y - u_test_pos_u2))\n",
    "print(np.linalg.norm(u_b_vector_y - u_test_pos_all))\n",
    "print(np.linalg.norm(u_b_vector_y - u_test_pos_all_ordered))\n",
    "print(\"#########\")\n",
    "print(np.linalg.norm(u_b_vector_y_ordered - u_test_pos_u2))\n",
    "print(np.linalg.norm(u_b_vector_y_ordered - u_test_pos_all))\n",
    "print(np.linalg.norm(u_b_vector_y_ordered - u_test_pos_all_ordered))"
   ]
  },
  {
   "cell_type": "code",
   "execution_count": 8,
   "id": "653c8dc8",
   "metadata": {},
   "outputs": [
    {
     "data": {
      "text/plain": [
       "(441,)"
      ]
     },
     "execution_count": 8,
     "metadata": {},
     "output_type": "execute_result"
    }
   ],
   "source": [
    "u_test_pos_u2.shape"
   ]
  },
  {
   "cell_type": "code",
   "execution_count": 9,
   "id": "3a7fcb96",
   "metadata": {},
   "outputs": [
    {
     "data": {
      "text/plain": [
       "(441, 2)"
      ]
     },
     "execution_count": 9,
     "metadata": {},
     "output_type": "execute_result"
    }
   ],
   "source": [
    "pos_u2.shape"
   ]
  },
  {
   "cell_type": "markdown",
   "id": "293de606",
   "metadata": {},
   "source": [
    "## Linalg"
   ]
  },
  {
   "cell_type": "code",
   "execution_count": 18,
   "id": "3a9e2bad",
   "metadata": {},
   "outputs": [
    {
     "name": "stderr",
     "output_type": "stream",
     "text": [
      "/tmp/ipykernel_2430471/3609901792.py:5: UserWarning: To copy construct from a tensor, it is recommended to use sourceTensor.detach().clone() or sourceTensor.detach().clone().requires_grad_(True), rather than torch.tensor(sourceTensor).\n",
      "  S = torch.tensor(S)\n",
      "/tmp/ipykernel_2430471/3609901792.py:6: UserWarning: To copy construct from a tensor, it is recommended to use sourceTensor.detach().clone() or sourceTensor.detach().clone().requires_grad_(True), rather than torch.tensor(sourceTensor).\n",
      "  A = torch.tensor(A)\n",
      "/tmp/ipykernel_2430471/3609901792.py:7: UserWarning: To copy construct from a tensor, it is recommended to use sourceTensor.detach().clone() or sourceTensor.detach().clone().requires_grad_(True), rather than torch.tensor(sourceTensor).\n",
      "  load_vector = torch.tensor(load_vector)\n",
      "/tmp/ipykernel_2430471/3609901792.py:9: DeprecationWarning: __array__ implementation doesn't accept a copy keyword, so passing copy=False failed. __array__ must implement 'dtype' and 'copy' keyword arguments. To learn more, see the migration guide https://numpy.org/devdocs/numpy_2_0_migration_guide.html#adapting-to-changes-in-the-copy-keyword\n",
      "  predict = np.array(predict)\n"
     ]
    }
   ],
   "source": [
    "u_solve_linalg=np.zeros(len(idx_sol[0])+len(idx_sol[1])+len(idx_sol[2]))\n",
    "u_solve_linalg[idx_sol[0]]=u_b_vector_x\n",
    "u_solve_linalg[idx_sol[1]]=u_b_vector_y\n",
    "u_solve_linalg = torch.tensor(u_solve_linalg)\n",
    "S = torch.tensor(S)\n",
    "A = torch.tensor(A)\n",
    "load_vector = torch.tensor(load_vector)\n",
    "predict=torch.linalg.solve(S+A*dt,torch.matmul(S,u_solve_linalg.reshape(-1,1))+dt*load_vector.reshape(-1,1))\n",
    "predict = np.array(predict)"
   ]
  },
  {
   "cell_type": "code",
   "execution_count": 21,
   "id": "29b446f7",
   "metadata": {},
   "outputs": [
    {
     "data": {
      "text/plain": [
       "array([[ 0.01290498,  0.01290498,  0.01290498, ...,  0.01290498,\n",
       "         0.01290498,  0.01290498],\n",
       "       [ 0.10560651,  0.10560651,  0.10560651, ...,  0.10560651,\n",
       "         0.10560651,  0.10560651],\n",
       "       [-0.09195643, -0.09195643, -0.09195643, ..., -0.09195643,\n",
       "        -0.09195643, -0.09195643],\n",
       "       ...,\n",
       "       [-0.01290498, -0.01290498, -0.01290498, ..., -0.01290498,\n",
       "        -0.01290498, -0.01290498],\n",
       "       [-0.05544543, -0.05544543, -0.05544543, ..., -0.05544543,\n",
       "        -0.05544543, -0.05544543],\n",
       "       [ 0.03111267,  0.03111267,  0.03111267, ...,  0.03111267,\n",
       "         0.03111267,  0.03111267]], shape=(441, 441))"
      ]
     },
     "execution_count": 21,
     "metadata": {},
     "output_type": "execute_result"
    }
   ],
   "source": [
    "predict[idx_sol[0]] - sol_u1"
   ]
  },
  {
   "cell_type": "code",
   "execution_count": 22,
   "id": "40ac3693",
   "metadata": {},
   "outputs": [],
   "source": [
    "sol_u1_ordered = sol_u1[perm_u1]"
   ]
  },
  {
   "cell_type": "code",
   "execution_count": 23,
   "id": "532e5c74",
   "metadata": {},
   "outputs": [
    {
     "data": {
      "text/plain": [
       "array([[ 0.01290498,  0.01290498,  0.01290498, ...,  0.01290498,\n",
       "         0.01290498,  0.01290498],\n",
       "       [ 0.10560651,  0.10560651,  0.10560651, ...,  0.10560651,\n",
       "         0.10560651,  0.10560651],\n",
       "       [-0.09195643, -0.09195643, -0.09195643, ..., -0.09195643,\n",
       "        -0.09195643, -0.09195643],\n",
       "       ...,\n",
       "       [-0.01290498, -0.01290498, -0.01290498, ..., -0.01290498,\n",
       "        -0.01290498, -0.01290498],\n",
       "       [-0.05544543, -0.05544543, -0.05544543, ..., -0.05544543,\n",
       "        -0.05544543, -0.05544543],\n",
       "       [ 0.03111267,  0.03111267,  0.03111267, ...,  0.03111267,\n",
       "         0.03111267,  0.03111267]], shape=(441, 441))"
      ]
     },
     "execution_count": 23,
     "metadata": {},
     "output_type": "execute_result"
    }
   ],
   "source": [
    "predict[idx_sol[0]] - sol_u1_ordered"
   ]
  }
 ],
 "metadata": {
  "kernelspec": {
   "display_name": "fenics",
   "language": "python",
   "name": "python3"
  },
  "language_info": {
   "codemirror_mode": {
    "name": "ipython",
    "version": 3
   },
   "file_extension": ".py",
   "mimetype": "text/x-python",
   "name": "python",
   "nbconvert_exporter": "python",
   "pygments_lexer": "ipython3",
   "version": "3.11.12"
  }
 },
 "nbformat": 4,
 "nbformat_minor": 5
}
