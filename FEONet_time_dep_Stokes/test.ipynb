{
 "cells": [
  {
   "cell_type": "code",
   "execution_count": 17,
   "id": "8d7b9410",
   "metadata": {},
   "outputs": [
    {
     "name": "stderr",
     "output_type": "stream",
     "text": [
      "/home/haltmayermarc/anaconda3/envs/fenics/lib/python3.11/site-packages/dolfin/jit/jit.py:121: RuntimeWarning: mpi4py.MPI.Session size changed, may indicate binary incompatibility. Expected 32 from C header, got 40 from PyObject\n",
      "  def compile_class(cpp_data, mpi_comm=MPI.comm_world):\n"
     ]
    }
   ],
   "source": [
    "import numpy as np\n",
    "import torch\n",
    "from dolfin import *"
   ]
  },
  {
   "cell_type": "code",
   "execution_count": 8,
   "id": "83a197a6",
   "metadata": {},
   "outputs": [],
   "source": [
    "def u_ini_0(m0, n0, grid):\n",
    "  grid=torch.tensor(grid)\n",
    "  return -5.0+m0*torch.sin(n0*grid[:,0])*torch.sin(grid[:,1])\n",
    "\n",
    "def u_ini_1(m1, n1, grid):\n",
    "  grid=torch.tensor(grid)\n",
    "  return 0.0+m1*torch.cos(n1*grid[:,0])*torch.sin(grid[:,1])"
   ]
  },
  {
   "cell_type": "code",
   "execution_count": 43,
   "id": "1bb8144b",
   "metadata": {},
   "outputs": [],
   "source": [
    "mesh = np.load(\"/home/haltmayermarc/FEONet_Stokes/FEONet_time_dep_Stokes/data_ordered/P2x1_ne200_stokes_zero_BC_dt_0_1.npz\", allow_pickle=True)\n",
    "fenics_u1 = mesh[\"train_fenics_u1\"]\n",
    "fenics_u2 = mesh[\"train_fenics_u2\"]\n",
    "fenics_p = mesh[\"train_fenics_p\"]\n",
    "count = 0\n",
    "index_list = []\n",
    "for i in range(fenics_u1.shape[0]):\n",
    "    if np.isnan(fenics_u1[i,:,:]).any() or np.isinf(fenics_u1[i,:,:]).any():\n",
    "        index_list.append(i)\n",
    "        count+=1"
   ]
  },
  {
   "cell_type": "code",
   "execution_count": 44,
   "id": "e0cb5776",
   "metadata": {},
   "outputs": [
    {
     "data": {
      "text/plain": [
       "0"
      ]
     },
     "execution_count": 44,
     "metadata": {},
     "output_type": "execute_result"
    }
   ],
   "source": [
    "count"
   ]
  },
  {
   "cell_type": "code",
   "execution_count": 48,
   "id": "314418b0",
   "metadata": {},
   "outputs": [],
   "source": [
    "train_coeffs_init = mesh[\"train_coeffs_init\"][34][0]"
   ]
  },
  {
   "cell_type": "code",
   "execution_count": 49,
   "id": "08e13b14",
   "metadata": {},
   "outputs": [
    {
     "data": {
      "text/plain": [
       "(441,)"
      ]
     },
     "execution_count": 49,
     "metadata": {},
     "output_type": "execute_result"
    }
   ],
   "source": [
    "train_coeffs_init.shape"
   ]
  },
  {
   "cell_type": "code",
   "execution_count": 55,
   "id": "49f978c0",
   "metadata": {},
   "outputs": [],
   "source": [
    "num_element, num_pts, p = mesh['ne'], mesh['ng'], mesh['p']\n",
    "idx_sol = mesh['idx_sol']\n",
    "u_solve_linalg=torch.zeros(len(idx_sol[0])+len(idx_sol[1])+len(idx_sol[2]), dtype=torch.float64)\n",
    "u_solve_linalg[idx_sol[0]]=torch.tensor(mesh['train_coeffs_init'][23][0], dtype=torch.float64)\n",
    "u_solve_linalg[idx_sol[1]]=torch.tensor(mesh['train_coeffs_init'][23][1], dtype=torch.float64)"
   ]
  },
  {
   "cell_type": "code",
   "execution_count": 56,
   "id": "af1f7334",
   "metadata": {},
   "outputs": [
    {
     "data": {
      "text/plain": [
       "tensor([ 0.0142,  0.1162, -0.0750,  ...,  0.0180, -0.0573,  0.0000],\n",
       "       dtype=torch.float64)"
      ]
     },
     "execution_count": 56,
     "metadata": {},
     "output_type": "execute_result"
    }
   ],
   "source": [
    "u_solve_linalg"
   ]
  },
  {
   "cell_type": "code",
   "execution_count": 28,
   "id": "c726aa15",
   "metadata": {},
   "outputs": [],
   "source": [
    "u_init = Expression(( \"-5.0+m0*sin(n0*x[0])*sin(x[1])\", \"0.0+m1*cos(n1*x[0])*sin(x[1])\" ), degree=5, m0=m0, m1=m1, n0=n0, n1=n1 )\n",
    "mesh = RectangleMesh(Point(0, 0), Point(1,1), 10, 10)\n",
    "\n",
    "# Define the function spaces:\n",
    "V = VectorElement('CG', triangle, 2)\n",
    "Q = FiniteElement('CG', triangle, 1)\n",
    "TH = V * Q\n",
    "W = FunctionSpace(mesh, TH)\n",
    "\n",
    "# FENiCS ordering\n",
    "pos_u1=W.sub(0).sub(0).collapse().tabulate_dof_coordinates()\n",
    "pos_u2=W.sub(0).sub(1).collapse().tabulate_dof_coordinates()\n",
    "pos_p=W.sub(1).collapse().tabulate_dof_coordinates()\n",
    "\n",
    "# numerical ordering\n",
    "pos_all=W.tabulate_dof_coordinates()\n",
    "idx_u1=W.sub(0).sub(0).dofmap().dofs()\n",
    "idx_u2=W.sub(0).sub(1).dofmap().dofs()\n",
    "idx_p=W.sub(1).dofmap().dofs()\n",
    "\n",
    "u_b = project(u_init, W.sub ( 0 ).collapse())\n",
    "u_b_vector = u_b.vector()[:]"
   ]
  },
  {
   "cell_type": "code",
   "execution_count": 29,
   "id": "e26464b4",
   "metadata": {},
   "outputs": [],
   "source": [
    "u_b_vector_x = u_b.sub(0, deepcopy=True).vector()[:]\n",
    "u_b_vector_y = u_b.sub(1, deepcopy=True).vector()[:]"
   ]
  },
  {
   "cell_type": "code",
   "execution_count": 33,
   "id": "d596c0da",
   "metadata": {},
   "outputs": [
    {
     "data": {
      "text/plain": [
       "array([-5.00004372, -5.00010047, -4.75776441, -4.88270406, -4.87864573,\n",
       "       -5.00002548, -5.00010803, -4.77457243, -4.89166341, -4.88703825,\n",
       "       -5.00002939, -4.76591168, -4.51964412, -4.65008842, -4.63800608,\n",
       "       -5.00010208, -4.79357024, -4.90170579, -4.89655582, -5.00002672,\n",
       "       -4.78379656, -4.55291677, -4.67681767, -4.66302752, -4.53575285,\n",
       "       -4.28963304, -4.42336806, -4.40346816, -5.00009235, -4.81462077,\n",
       "       -4.91273028, -4.90710344, -5.00002433, -4.80383836, -4.59058291,\n",
       "       -4.70677514, -4.69141153, -4.57121892, -4.33880443, -4.46741704,\n",
       "       -4.44469453, -4.31341973, -4.07159264, -4.2063621 , -4.17897874,\n",
       "       -5.00008115, -4.83752171, -4.9246267 , -4.91857852, -5.00002185,\n",
       "       -4.82584037, -4.63232914, -4.73966275, -4.722875  , -4.61096613,\n",
       "       -4.39450335, -4.5167854 , -4.49146633, -4.36586938, -4.13583298,\n",
       "       -4.26698824, -4.23571606, -4.10265398, -3.86919331, -4.00272624,\n",
       "       -3.96832046, -5.00006904, -4.86204573, -4.93727621, -4.930867  ,\n",
       "       -5.00001918, -4.84958261, -4.67774718, -4.77515165, -4.75710654,\n",
       "       -4.65460065, -4.45624097, -4.57098217, -4.54331534, -4.4246519 ,\n",
       "       -4.20862603, -4.33493584, -4.30008777, -4.17120364, -3.94742011,\n",
       "       -4.07890808, -4.03961301, -3.90700556, -3.68584427, -3.81589101,\n",
       "       -3.77504237, -5.00005622, -4.88794808, -4.95055243, -4.94384621,\n",
       "       -5.00001632, -4.8748278 , -4.72638474, -4.81288717, -4.79376483,\n",
       "       -4.70168637, -4.52340977, -4.62946564, -4.59972649, -4.48918335,\n",
       "       -4.28931477, -4.40952881, -4.37144888, -4.24803111, -4.03608091,\n",
       "       -4.16429024, -4.12050023, -3.99050041, -3.77673962, -3.90634511,\n",
       "       -3.85968913, -3.72977032, -3.52463418, -3.64900391, -3.60240056,\n",
       "       -5.00004292, -4.91497002, -4.96432273, -4.95738648, -5.0000133 ,\n",
       "       -4.90132367, -4.77775611, -4.85249226, -4.83248371, -4.75175276,\n",
       "       -4.59534017, -4.69165139, -4.66013687, -4.55881878, -4.37710255,\n",
       "       -4.49002166, -4.44908935, -4.33237224, -4.1343614 , -4.25802278,\n",
       "       -4.21017124, -4.08407853, -3.8797745 , -4.00772344, -3.95572918,\n",
       "       -3.82680376, -3.62666674, -3.75220643, -3.69897553, -3.57393405,\n",
       "       -3.38827864, -3.50487638, -3.45330346, -5.00003004, -4.94284176,\n",
       "       -4.97844952, -4.97135259, -5.00001014, -4.92880547, -4.83134811,\n",
       "       -4.89357121, -4.87287638, -4.80429955, -4.67131374, -4.75691805,\n",
       "       -4.72394302, -4.63286238, -4.47111378, -4.57561006, -4.53223416,\n",
       "       -4.42338417, -4.24128919, -4.359169  , -4.30773307, -4.18680846,\n",
       "       -3.99399102, -4.11901648, -4.06219948, -3.93555604, -3.74233975,\n",
       "       -3.86787307, -3.8085505 , -3.68287131, -3.49972873, -3.61908885,\n",
       "       -3.5601797 , -3.44212187, -3.27907229, -3.38593658, -3.33026275,\n",
       "       -5.00002398, -4.97128621, -4.99279279, -4.98560524, -5.00000634,\n",
       "       -4.95699857, -4.88662557, -4.93571362, -4.91453932, -4.85880171,\n",
       "       -4.75057151, -4.82461351, -4.79050747, -4.71057429, -4.57040942,\n",
       "       -4.66543883, -4.62005271, -4.52015747, -4.35579745, -4.4667182 ,\n",
       "       -4.41221162, -4.29766362, -4.11825745, -4.23911211, -4.17803908,\n",
       "       -4.05494413, -3.87056809, -3.99485172, -3.93002642, -3.80496557,\n",
       "       -3.62609048, -3.74709522, -3.68144374, -3.56112703, -3.39805633,\n",
       "       -3.50923538, -3.44564034, -3.3365517 , -3.19882032, -3.29418987,\n",
       "       -3.23535079, -5.00003226, -4.98562109, -5.00000151, -4.94303865,\n",
       "       -4.97850037, -4.95705666, -4.91471461, -4.83232207, -4.89406139,\n",
       "       -4.85916529, -4.79117802, -4.67399751, -4.7586104 , -4.71166761,\n",
       "       -4.6217252 , -4.47674233, -4.57959578, -4.52256315, -4.41553631,\n",
       "       -4.25133366, -4.36681029, -4.30209128, -4.18377499, -4.01007967,\n",
       "       -4.13187356, -4.0621923 , -3.93900053, -3.76617028, -3.88762033,\n",
       "       -3.81587882, -3.69450629, -3.53297656, -3.64742494, -3.57655073,\n",
       "       -3.46361747, -3.32331058, -3.42449731, -3.35728982, -3.25898232,\n",
       "       -5.00004747, -4.97147972, -5.00000173, -4.91575227, -4.96457057,\n",
       "       -4.92923129, -4.87386812, -4.78084371, -4.85419389, -4.80616375,\n",
       "       -4.72707248, -4.60291558, -4.69667387, -4.63768513, -4.53924877,\n",
       "       -4.39189027, -4.50083508, -4.43311674, -4.32076132, -4.15948193,\n",
       "       -4.27756944, -4.2037283 , -4.08363673, -3.91857662, -4.03926004,\n",
       "       -3.96214445, -3.84093005, -3.68254715, -3.7991292 , -3.72168014,\n",
       "       -3.60603472, -3.46451193, -3.57054255, -3.49563981, -3.39196762,\n",
       "       -5.00006259, -4.95781928, -5.00000167, -4.88988537, -4.95123763,\n",
       "       -4.90259806, -4.83514663, -4.7330574 , -4.8167827 , -4.75642766,\n",
       "       -4.66756485, -4.5385231 , -4.63984733, -4.5698064 , -4.46453437,\n",
       "       -4.31728237, -4.4304836 , -4.35322037, -4.23742895, -4.08178795,\n",
       "       -4.20049916, -4.11877985, -3.99893493, -3.84528028, -3.96283222,\n",
       "       -3.87958143, -3.76238032, -3.62105116, -3.73087052, -3.64901855,\n",
       "       -3.5410221 , -5.00007671, -4.94486948, -5.0000016 , -4.86587354,\n",
       "       -4.93872616, -4.8776057 , -4.79920237, -4.6897681 , -4.7824581 ,\n",
       "       -4.71079492, -4.61365756, -4.48190452, -4.58908814, -4.50917495,\n",
       "       -4.39884051, -4.25417378, -4.36972662, -4.28422011, -4.16694214,\n",
       "       -4.01955088, -4.13689828, -4.04867748, -3.93109186, -3.79136806,\n",
       "       -3.90387923, -3.81589555, -3.7046542 , -5.00008952, -4.93284843,\n",
       "       -5.00000149, -4.84412119, -4.92724695, -4.85467526, -4.76664081,\n",
       "       -4.65170473, -4.75179833, -4.67003431, -4.5662586 , -4.43401192,\n",
       "       -4.5452515 , -4.45681233, -4.34327298, -4.20361785, -4.31958816,\n",
       "       -4.22727885, -4.11048358, -3.97376119, -4.08784001, -3.99460371,\n",
       "       -3.88122895, -5.00010069, -4.92195862, -5.00000137, -4.82499443,\n",
       "       -4.91699336, -4.83419307, -4.73801034, -4.6195068 , -4.72532001,\n",
       "       -4.63483259, -4.52616554, -4.39564233, -4.50907644, -4.41360113,\n",
       "       -4.29876303, -4.16640826, -4.2809148 , -4.18335748, -4.06898209,\n",
       "       -5.00010948, -4.91238337, -5.00000127, -4.80881366, -4.9081381 ,\n",
       "       -4.81650428, -4.71379236, -4.59370715, -4.70346974, -4.60578327,\n",
       "       -4.49404891, -4.36738485, -4.48117451, -4.38027101, -4.26603762,\n",
       "       -5.00011293, -4.90428317, -5.00000137, -4.79584225, -4.90083044,\n",
       "       -4.8019074 , -4.69438995, -4.5746853 , -4.68661836, -4.58337738,\n",
       "       -4.47042651, -5.00009926, -4.89778996, -5.00000276, -4.78625069,\n",
       "       -4.89519625, -4.79064981, -4.6801063 , -5.00004332, -4.89299455,\n",
       "       -5.00000729])"
      ]
     },
     "execution_count": 33,
     "metadata": {},
     "output_type": "execute_result"
    }
   ],
   "source": [
    "u_b_vector_x"
   ]
  },
  {
   "cell_type": "code",
   "execution_count": 34,
   "id": "71dadb3d",
   "metadata": {},
   "outputs": [
    {
     "name": "stderr",
     "output_type": "stream",
     "text": [
      "/tmp/ipykernel_2095355/1212772415.py:1: DeprecationWarning: __array__ implementation doesn't accept a copy keyword, so passing copy=False failed. __array__ must implement 'dtype' and 'copy' keyword arguments. To learn more, see the migration guide https://numpy.org/devdocs/numpy_2_0_migration_guide.html#adapting-to-changes-in-the-copy-keyword\n",
      "  u_vector_self_assigned = np.array(u_ini_0(m0 ,n0 ,pos_u1))\n"
     ]
    }
   ],
   "source": [
    "u_vector_self_assigned = np.array(u_ini_0(m0 ,n0 ,pos_u1))"
   ]
  },
  {
   "cell_type": "code",
   "execution_count": 57,
   "id": "4f77e512",
   "metadata": {},
   "outputs": [],
   "source": [
    "data = np.load(\"/home/haltmayermarc/FEONet_Stokes/FEONet_time_dep_Stokes/data_ordered/train/1000N200.pkl\", allow_pickle=True)"
   ]
  },
  {
   "cell_type": "code",
   "execution_count": 65,
   "id": "d85fc484",
   "metadata": {},
   "outputs": [
    {
     "data": {
      "text/plain": [
       "np.False_"
      ]
     },
     "execution_count": 65,
     "metadata": {},
     "output_type": "execute_result"
    }
   ],
   "source": [
    "np.isnan(data[70,0]).any()"
   ]
  },
  {
   "cell_type": "code",
   "execution_count": 66,
   "id": "9da23718",
   "metadata": {},
   "outputs": [],
   "source": [
    "count = 0\n",
    "for i in range(1000):\n",
    "    if np.isnan(data[i,0]).any() or np.isinf(data[i,0]).any():\n",
    "        count +=1"
   ]
  }
 ],
 "metadata": {
  "kernelspec": {
   "display_name": "fenics",
   "language": "python",
   "name": "python3"
  },
  "language_info": {
   "codemirror_mode": {
    "name": "ipython",
    "version": 3
   },
   "file_extension": ".py",
   "mimetype": "text/x-python",
   "name": "python",
   "nbconvert_exporter": "python",
   "pygments_lexer": "ipython3",
   "version": "3.11.12"
  }
 },
 "nbformat": 4,
 "nbformat_minor": 5
}
