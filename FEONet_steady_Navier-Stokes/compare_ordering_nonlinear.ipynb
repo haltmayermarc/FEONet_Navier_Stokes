{
 "cells": [
  {
   "cell_type": "code",
   "execution_count": 1,
   "id": "bdc1f54d",
   "metadata": {},
   "outputs": [
    {
     "name": "stderr",
     "output_type": "stream",
     "text": [
      "/home/haltmayermarc/anaconda3/envs/fenics/lib/python3.11/site-packages/dolfin/jit/jit.py:121: RuntimeWarning: mpi4py.MPI.Session size changed, may indicate binary incompatibility. Expected 32 from C header, got 40 from PyObject\n",
      "  def compile_class(cpp_data, mpi_comm=MPI.comm_world):\n"
     ]
    }
   ],
   "source": [
    "import os\n",
    "import numpy as np\n",
    "import scipy\n",
    "from scipy import io\n",
    "import matplotlib.pyplot as plt\n",
    "from mpl_toolkits.mplot3d import Axes3D\n",
    "from tqdm import tqdm\n",
    "import torch\n",
    "import dolfin\n",
    "from dolfin import *\n",
    "#import mshr\n",
    "import pickle"
   ]
  },
  {
   "cell_type": "code",
   "execution_count": 2,
   "id": "69424d17",
   "metadata": {},
   "outputs": [
    {
     "name": "stderr",
     "output_type": "stream",
     "text": [
      "/home/haltmayermarc/anaconda3/envs/fenics/lib/python3.11/site-packages/dolfin/jit/jit.py:46: RuntimeWarning: mpi4py.MPI.Session size changed, may indicate binary incompatibility. Expected 32 from C header, got 40 from PyObject\n",
      "  if MPI.size(mpi_comm) == 1:\n"
     ]
    },
    {
     "name": "stdout",
     "output_type": "stream",
     "text": [
      "Solving nonlinear variational problem.\n",
      "  Newton iteration 0: r (abs) = 8.077e-03 (tol = 1.000e-10) r (rel) = 1.000e+00 (tol = 1.000e-09)\n",
      "  Newton iteration 1: r (abs) = 9.529e-03 (tol = 1.000e-10) r (rel) = 1.180e+00 (tol = 1.000e-09)\n",
      "  Newton iteration 2: r (abs) = 9.350e-04 (tol = 1.000e-10) r (rel) = 1.158e-01 (tol = 1.000e-09)\n",
      "  Newton iteration 3: r (abs) = 1.035e-03 (tol = 1.000e-10) r (rel) = 1.282e-01 (tol = 1.000e-09)\n",
      "  Newton iteration 4: r (abs) = 1.479e-05 (tol = 1.000e-10) r (rel) = 1.831e-03 (tol = 1.000e-09)\n",
      "  Newton iteration 5: r (abs) = 3.584e-07 (tol = 1.000e-10) r (rel) = 4.437e-05 (tol = 1.000e-09)\n",
      "  Newton iteration 6: r (abs) = 6.025e-11 (tol = 1.000e-10) r (rel) = 7.459e-09 (tol = 1.000e-09)\n",
      "  Newton solver finished in 6 iterations and 6 linear solver iterations.\n",
      "tensor(-0.4160, dtype=torch.float64) tensor(0.0586, dtype=torch.float64)\n",
      "torch.Size([6561]) torch.Size([6561]) torch.Size([1681])\n"
     ]
    }
   ],
   "source": [
    "num_h=40\n",
    "g1 = 0.0\n",
    "g2 = 0.0\n",
    "\n",
    "#  Length and Height.\n",
    "Le = 1.0\n",
    "He = 1.0\n",
    "\n",
    "#  The body force vector f = (fx,fy).\n",
    "np.random.seed(5)\n",
    "m0, m1, m2, m3 = 0.5*np.random.rand(4)\n",
    "n0, n1, n2, n3 = (1/15)*np.pi*(np.random.rand(4))\n",
    "f = Expression ( ( \"m0*sin(n0*x[0])+m1*sin(n1*x[1])\", \"m2*cos(n2*x[0])+m3*cos(n3*x[1])\" ), degree=5, m0=m0, m1=m1, m2=m2, m3=m3, n0=n0, n1=n1, n2=n2, n3=n3 )\n",
    "\n",
    "#  Specify the boundary conditions.\n",
    "def LowerBoundary ( x, on_boundary ):\n",
    "  return x[1] < DOLFIN_EPS and on_boundary\n",
    "\n",
    "SlipRate = Expression ( ( \"g1\", \"g2\" ), degree=3, g1=g1, g2=g2)\n",
    "\n",
    "#  Define the mesh, using 3 cells in the X and Y direction.\n",
    "mesh = RectangleMesh ( Point(0.0, 0.0), Point(Le, He), num_h, num_h)\n",
    "\n",
    "#  Define the function spaces:\n",
    "#    Velocity: piecewise quadratic vector.\n",
    "#    Pressure: piecewise linear scalar.\n",
    "V = VectorElement('CG', triangle, 2)\n",
    "Q = FiniteElement('CG', triangle, 1)\n",
    "TH = V * Q\n",
    "W = FunctionSpace(mesh, TH)\n",
    "\n",
    "#  Define the Dirichlet condition at the base of the glacier.\n",
    "bc = DirichletBC ( W.sub ( 0 ), SlipRate, LowerBoundary )\n",
    "\n",
    "#  Define the variational problem: a(u,v) = L(v).\n",
    "w = Function(W)\n",
    "(u, p) = split(w)\n",
    "(v, q) = TestFunctions (W)\n",
    "\n",
    "#  Material viscosity, Pa-sec.\n",
    "mu=0.1\n",
    "a = ( \n",
    "   mu * inner(grad(v), grad(u)) \n",
    "  - p*div(v) - q*div(u) \n",
    "  + dot(dot(grad(u), u), v)\n",
    "  ) * dx\n",
    "l = inner ( v, f ) * dx\n",
    "\n",
    "F = a - l\n",
    "\n",
    "#  Solution.\n",
    "J = derivative(F, w)\n",
    "solve ( F == 0, w, bc, J = J )\n",
    "\n",
    "sol_w = torch.tensor(w.vector()[:])\n",
    "\n",
    "#  Split the mixed solution to recover velocity and pressure.\n",
    "(u, p) = w.split(deepcopy=True)\n",
    "\n",
    "sol_u1=torch.tensor(u.sub(0, deepcopy=True).vector()[:])\n",
    "sol_u2=torch.tensor(u.sub(1,deepcopy=True).vector()[:])\n",
    "sol_p=torch.tensor(p.vector()[:])\n",
    "print(torch.min(sol_p),torch.max(sol_p))\n",
    "print(sol_u1.shape, sol_u2.shape, sol_p.shape)"
   ]
  },
  {
   "cell_type": "code",
   "execution_count": 3,
   "id": "80dbaf8d",
   "metadata": {},
   "outputs": [
    {
     "data": {
      "text/plain": [
       "[<matplotlib.lines.Line2D at 0x759247ba33d0>,\n",
       " <matplotlib.lines.Line2D at 0x7592352c2f50>]"
      ]
     },
     "execution_count": 3,
     "metadata": {},
     "output_type": "execute_result"
    },
    {
     "data": {
      "image/png": "[encoded data removed]",
      "text/plain": [
       "<Figure size 640x480 with 1 Axes>"
      ]
     },
     "metadata": {},
     "output_type": "display_data"
    }
   ],
   "source": [
    "plot(mesh)"
   ]
  },
  {
   "cell_type": "code",
   "execution_count": 4,
   "id": "IUAQVr7kbiQv",
   "metadata": {
    "executionInfo": {
     "elapsed": 278,
     "status": "ok",
     "timestamp": 1712027294672,
     "user": {
      "displayName": "이재용",
      "userId": "11888730461725400038"
     },
     "user_tz": -540
    },
    "id": "IUAQVr7kbiQv"
   },
   "outputs": [],
   "source": [
    "pos_u=W.sub(0).sub(0).collapse().tabulate_dof_coordinates()\n",
    "pos_u1=W.sub(0).sub(0).collapse().tabulate_dof_coordinates()\n",
    "pos_u2=W.sub(0).sub(1).collapse().tabulate_dof_coordinates()\n",
    "pos_p=W.sub(1).collapse().tabulate_dof_coordinates()"
   ]
  },
  {
   "cell_type": "code",
   "execution_count": 5,
   "id": "7f5a65cb",
   "metadata": {},
   "outputs": [],
   "source": [
    "pos_all=W.tabulate_dof_coordinates()\n",
    "idx_u1=W.sub(0).sub(0).dofmap().dofs()\n",
    "idx_u2=W.sub(0).sub(1).dofmap().dofs()\n",
    "idx_p=W.sub(1).dofmap().dofs()\n",
    "idx_sol = [idx_u1, idx_u2, idx_p]"
   ]
  },
  {
   "cell_type": "markdown",
   "id": "bfe0fc72",
   "metadata": {},
   "source": [
    "### Check ordering"
   ]
  },
  {
   "cell_type": "code",
   "execution_count": 6,
   "id": "b6417dfd",
   "metadata": {},
   "outputs": [
    {
     "name": "stdout",
     "output_type": "stream",
     "text": [
      "0.0\n",
      "0.12499999999999994\n",
      "0.10000000000000003\n",
      "0.0\n",
      "Arrays contain the same 2D elements (unordered): True\n",
      "Arrays are identical: False\n"
     ]
    }
   ],
   "source": [
    "print(np.abs(pos_all[idx_u1] - pos_u1).sum())\n",
    "print(np.abs(pos_all[idx_u2] - pos_u2).sum())\n",
    "print(np.abs(pos_all[idx_p] - pos_p).sum())\n",
    "print(np.abs(pos_u1 - pos_u2).sum())\n",
    "\n",
    "same_as_sets = set(map(tuple, pos_p)) == set(map(tuple, pos_all[idx_p]))\n",
    "print(\"Arrays contain the same 2D elements (unordered):\", same_as_sets)\n",
    "same_as_vectors = np.array_equal(pos_p, pos_all[idx_p])\n",
    "print(\"Arrays are identical:\", same_as_vectors)"
   ]
  },
  {
   "cell_type": "code",
   "execution_count": 7,
   "id": "86a740b0",
   "metadata": {},
   "outputs": [
    {
     "name": "stdout",
     "output_type": "stream",
     "text": [
      "Are all DOFs ordered the same way now?\n",
      "u1 True\n",
      "u2 True\n",
      "p True\n",
      "0.0\n",
      "0.0\n",
      "0.0\n"
     ]
    }
   ],
   "source": [
    "row_to_index_u1 = {tuple(row): i for i, row in enumerate(pos_u1)}\n",
    "row_to_index_u2 = {tuple(row): i for i, row in enumerate(pos_u2)}\n",
    "row_to_index_p = {tuple(row): i for i, row in enumerate(pos_p)}\n",
    "\n",
    "perm_u1 = np.array([row_to_index_u1[tuple(row)] for row in pos_all[idx_u1]])\n",
    "perm_u2 = np.array([row_to_index_u2[tuple(row)] for row in pos_all[idx_u2]])\n",
    "perm_p = np.array([row_to_index_p[tuple(row)] for row in pos_all[idx_p]])\n",
    "\n",
    "pos_u1_ordered = pos_u1[perm_u1]\n",
    "pos_u2_ordered = pos_u2[perm_u2]\n",
    "pos_p_ordered = pos_p[perm_p]\n",
    "print(\"Are all DOFs ordered the same way now?\")\n",
    "print(\"u1\", np.array_equal(pos_u1_ordered, pos_all[idx_u1]))\n",
    "print(\"u2\", np.array_equal(pos_u2_ordered, pos_all[idx_u2]))\n",
    "print(\"p\", np.array_equal(pos_p_ordered, pos_all[idx_p]))\n",
    "\n",
    "print(np.abs(pos_all[idx_u1] - pos_u1_ordered).sum())\n",
    "print(np.abs(pos_all[idx_u2] - pos_u2_ordered).sum())\n",
    "print(np.abs(pos_all[idx_p] - pos_p_ordered).sum())"
   ]
  },
  {
   "cell_type": "code",
   "execution_count": 8,
   "id": "5fa3007f",
   "metadata": {},
   "outputs": [],
   "source": [
    "sol_u1_ordered = sol_u1[perm_u1]\n",
    "sol_u2_ordered = sol_u2[perm_u2]\n",
    "sol_p_ordered = sol_p[perm_p]"
   ]
  },
  {
   "cell_type": "markdown",
   "id": "704b5493",
   "metadata": {},
   "source": [
    "### Assemble A, B1 and B2"
   ]
  },
  {
   "cell_type": "code",
   "execution_count": 9,
   "id": "178f47e9",
   "metadata": {},
   "outputs": [],
   "source": [
    "#  Length and Height.\n",
    "Le = 1.0\n",
    "He = 1.0\n",
    "\n",
    "#  The body force vector f = (fx,fy).\n",
    "np.random.seed(5)\n",
    "m0, m1, m2, m3 = 0.5*np.random.rand(4)\n",
    "n0, n1, n2, n3 = (1/15)*np.pi*(np.random.rand(4))\n",
    "f = Expression ( ( \"m0*sin(n0*x[0])+m1*sin(n1*x[1])\", \"m2*cos(n2*x[0])+m3*cos(n3*x[1])\" ), degree=5, m0=m0, m1=m1, m2=m2, m3=m3, n0=n0, n1=n1, n2=n2, n3=n3 )\n",
    "\n",
    "#  Specify the boundary conditions.\n",
    "def LowerBoundary ( x, on_boundary ):\n",
    "  return x[1] < DOLFIN_EPS and on_boundary\n",
    "\n",
    "SlipRate = Expression ( ( \"g1\", \"g2\" ), degree=3, g1=g1, g2=g2)\n",
    "\n",
    "#  Define the mesh, using 3 cells in the X and Y direction.\n",
    "mesh = RectangleMesh ( Point(0.0, 0.0), Point(Le, He), num_h, num_h)\n",
    "\n",
    "#  Define the function spaces:\n",
    "#  Velocity: piecewise quadratic vector.\n",
    "#  Pressure: piecewise linear scalar.\n",
    "V = VectorElement('CG', triangle, 2)\n",
    "Q = FiniteElement('CG', triangle, 1)\n",
    "TH = V * Q\n",
    "W = FunctionSpace(mesh, TH)\n",
    "\n",
    "#  Define the Dirichlet condition at the base of the glacier.\n",
    "bc = DirichletBC ( W.sub ( 0 ), SlipRate, LowerBoundary )\n",
    "\n",
    "#  Define the variational problem: a(u,v) = L(v).\n",
    "w = Function(W)\n",
    "(u, p) = TrialFunctions (W)\n",
    "(v, q) = TestFunctions (W)\n",
    "\n",
    "#  Material viscosity, Pa-sec.\n",
    "mu=0.1\n",
    "a = ( \n",
    "   mu * inner(grad(v), grad(u)) \n",
    "  - p*div(v) - q*div(u) ) * dx\n",
    "\n",
    "b1 = ( \n",
    "  dot(dot(grad(u), Constant((1.0,0.0))), v) \n",
    "  ) * dx\n",
    "\n",
    "b2 = ( \n",
    "  dot(dot(grad(u), Constant((0.0,1.0))), v) \n",
    "  ) * dx\n",
    "\n",
    "l = inner ( v, f ) * dx\n",
    "\n",
    "#  Matrix assembly.\n",
    "## With B(coeff)=coeff[u]*B1+coeff[v]*B2,\n",
    "## we will do (A+B(coeff)) @ coeff = load_vector\n",
    "## Therefore, we can give the loss | (A+B(coeff)) @ coeff -load_vector |^2\n",
    "A = assemble(a)\n",
    "bc.apply(A)\n",
    "A = A.array()\n",
    "\n",
    "B1 = assemble(b1)\n",
    "B1 = B1.array()\n",
    "\n",
    "B2 = assemble(b2)\n",
    "B2 = B2.array()\n",
    "\n",
    "L = assemble(l)\n",
    "bc.apply(L)\n",
    "load_vector = L.get_local()"
   ]
  },
  {
   "cell_type": "code",
   "execution_count": 10,
   "id": "5fa678bb",
   "metadata": {},
   "outputs": [],
   "source": [
    "A=torch.tensor(A, dtype=torch.float64)\n",
    "B1=torch.tensor(B1, dtype=torch.float64)\n",
    "B2=torch.tensor(B2, dtype=torch.float64)\n",
    "load_vector=torch.tensor(load_vector, dtype=torch.float64)"
   ]
  },
  {
   "cell_type": "code",
   "execution_count": 11,
   "id": "2ca6c841",
   "metadata": {},
   "outputs": [
    {
     "data": {
      "text/plain": [
       "torch.Size([14803, 14803])"
      ]
     },
     "execution_count": 11,
     "metadata": {},
     "output_type": "execute_result"
    }
   ],
   "source": [
    "A.shape"
   ]
  },
  {
   "cell_type": "code",
   "execution_count": 43,
   "id": "588ff322",
   "metadata": {},
   "outputs": [
    {
     "name": "stdout",
     "output_type": "stream",
     "text": [
      "torch.Size([3803, 3803])\n",
      "Min: -0.1333333333333347\n",
      "Max: 1.0\n"
     ]
    }
   ],
   "source": [
    "print(A.shape)\n",
    "print(\"Min:\", torch.min(A).item())\n",
    "print(\"Max:\", torch.max(A).item())"
   ]
  },
  {
   "cell_type": "code",
   "execution_count": 48,
   "id": "e00b8491",
   "metadata": {},
   "outputs": [
    {
     "name": "stdout",
     "output_type": "stream",
     "text": [
      "Condition number: 1.4103960229021908e+18\n"
     ]
    }
   ],
   "source": [
    "U, S, Vh = torch.linalg.svd(B2)\n",
    "cond_num = S.max() / S.min()\n",
    "\n",
    "print(\"Condition number:\", cond_num.item())"
   ]
  },
  {
   "cell_type": "code",
   "execution_count": 15,
   "id": "da0915f9",
   "metadata": {},
   "outputs": [
    {
     "name": "stdout",
     "output_type": "stream",
     "text": [
      "Min: -0.006666666666666677\n",
      "Max: 0.00666666666666671\n"
     ]
    }
   ],
   "source": [
    "B1.shape\n",
    "print(\"Min:\", torch.min(B1).item())\n",
    "print(\"Max:\", torch.max(B1).item())"
   ]
  },
  {
   "cell_type": "code",
   "execution_count": 38,
   "id": "fb0488b8",
   "metadata": {},
   "outputs": [],
   "source": [
    "p=pos_all\n",
    "re_idx_pos_u = np.lexsort((pos_u[:,0], pos_u[:,1]))\n",
    "re_idx_pos_p = np.lexsort((pos_p[:,0], pos_p[:,1]))\n",
    "re_idx_u1 = np.lexsort((p[idx_sol[0]][:,0], p[idx_sol[0]][:,1]))\n",
    "re_idx_u2 = np.lexsort((p[idx_sol[1]][:,0], p[idx_sol[1]][:,1]))\n",
    "re_idx_p = np.lexsort((p[idx_sol[2]][:,0], p[idx_sol[2]][:,1])) "
   ]
  },
  {
   "cell_type": "code",
   "execution_count": 39,
   "id": "f70d8873",
   "metadata": {},
   "outputs": [],
   "source": [
    "u_answer=torch.zeros(len(idx_sol[0])+len(idx_sol[1])+len(idx_sol[2]), dtype=torch.float64)\n",
    "u_answer[torch.tensor(idx_sol[0])[re_idx_u1]]=sol_u1[re_idx_pos_u]\n",
    "u_answer[torch.tensor(idx_sol[1])[re_idx_u2]]=sol_u2[re_idx_pos_u]\n",
    "u_answer[torch.tensor(idx_sol[2])[re_idx_p]]=sol_p[re_idx_pos_p]"
   ]
  },
  {
   "cell_type": "code",
   "execution_count": null,
   "id": "aaf0ffc7",
   "metadata": {},
   "outputs": [],
   "source": [
    "diag_vector_1 = torch.zeros(B1.shape[0], dtype=u_answer.dtype, device=u_answer.device)\n",
    "diag_vector_1[idx_sol[0]] = u_answer[idx_sol[0]]\n",
    "diag_vector_1[idx_sol[1]] = u_answer[idx_sol[0]]\n",
    "\n",
    "diag_vector_2 = torch.zeros(B2.shape[0], dtype=u_answer.dtype, device=u_answer.device)\n",
    "diag_vector_2[idx_sol[0]] = u_answer[idx_sol[1]]\n",
    "diag_vector_2[idx_sol[1]] = u_answer[idx_sol[1]]\n",
    "\n",
    "convection = diag_vector_1 * (B1 @ u_answer) + diag_vector_2 * (B2 @ u_answer)\n",
    "linear_term = A @ u_answer\n",
    "LHS_2 =  convection + linear_term\n",
    "RHS = load_vector\n",
    "torch.abs(LHS_2-RHS).mean() / torch.abs(RHS).mean()"
   ]
  },
  {
   "cell_type": "code",
   "execution_count": 40,
   "id": "71abc693",
   "metadata": {},
   "outputs": [
    {
     "data": {
      "text/plain": [
       "tensor(0.0017, dtype=torch.float64)"
      ]
     },
     "execution_count": 40,
     "metadata": {},
     "output_type": "execute_result"
    }
   ],
   "source": [
    "matrix_u1=torch.zeros_like(B1)\n",
    "matrix_u1[idx_sol[0],idx_sol[0]]=u_answer[idx_sol[0]]\n",
    "matrix_u1[idx_sol[1],idx_sol[1]]=u_answer[idx_sol[0]]\n",
    "\n",
    "matrix_u2=torch.zeros_like(B1)\n",
    "matrix_u2[idx_sol[0],idx_sol[0]]=u_answer[idx_sol[1]]\n",
    "matrix_u2[idx_sol[1],idx_sol[1]]=u_answer[idx_sol[1]]\n",
    "\n",
    "B=matrix_u1@B1+matrix_u2@B2\n",
    "\n",
    "LHS = (A+B)@u_answer.reshape(-1,1)\n",
    "LHS = LHS.reshape(-1)\n",
    "RHS = load_vector\n",
    "torch.abs(LHS-RHS).mean() / torch.abs(RHS).mean()"
   ]
  },
  {
   "cell_type": "markdown",
   "id": "92bae289",
   "metadata": {},
   "source": [
    "### Write down nonlinear equation using element-wise vector products"
   ]
  },
  {
   "cell_type": "code",
   "execution_count": 41,
   "id": "3c3850e4",
   "metadata": {},
   "outputs": [
    {
     "data": {
      "text/plain": [
       "tensor(0.0017, dtype=torch.float64)"
      ]
     },
     "execution_count": 41,
     "metadata": {},
     "output_type": "execute_result"
    }
   ],
   "source": [
    "diag_vector_1 = torch.zeros(B1.shape[0], dtype=u_answer.dtype, device=u_answer.device)\n",
    "diag_vector_1[idx_sol[0]] = u_answer[idx_sol[0]]\n",
    "diag_vector_1[idx_sol[1]] = u_answer[idx_sol[0]]\n",
    "\n",
    "diag_vector_2 = torch.zeros(B2.shape[0], dtype=u_answer.dtype, device=u_answer.device)\n",
    "diag_vector_2[idx_sol[0]] = u_answer[idx_sol[1]]\n",
    "diag_vector_2[idx_sol[1]] = u_answer[idx_sol[1]]\n",
    "\n",
    "convection = diag_vector_1 * (B1 @ u_answer) + diag_vector_2 * (B2 @ u_answer)\n",
    "linear_term = A @ u_answer\n",
    "LHS_2 =  convection + linear_term\n",
    "torch.abs(LHS_2-RHS).mean() / torch.abs(RHS).mean()"
   ]
  },
  {
   "cell_type": "markdown",
   "id": "ee10d211",
   "metadata": {},
   "source": [
    "### Use Newton's method to solve the system"
   ]
  },
  {
   "cell_type": "markdown",
   "id": "7d6521bc",
   "metadata": {},
   "source": [
    "\\begin{equation*}\n",
    "A \\alpha + [\\alpha_u, \\alpha_v , 0] \\ast B_1 \\alpha + [\\alpha_u, \\alpha_v , 0] \\ast B_2 \\alpha = 0\n",
    "\\end{equation*}"
   ]
  },
  {
   "cell_type": "code",
   "execution_count": 42,
   "id": "1f0c2420",
   "metadata": {},
   "outputs": [],
   "source": [
    "import torch\n",
    "\n",
    "def newton_solve_nonlinear_system(\n",
    "    A, B1, B2, load_vector, idx_sol, \n",
    "    u0=None, max_iters=50, rtol=1e-10, atol=1e-12, \n",
    "    line_search=True, ls_shrink=0.5, ls_min_alpha=1e-6, verbose=True\n",
    "):\n",
    "    device = A.device\n",
    "    dtype = A.dtype\n",
    "    N = A.shape[0]\n",
    "\n",
    "    # Normalize indices to tensors on device\n",
    "    def _as_idx(x):\n",
    "        if isinstance(x, torch.Tensor):\n",
    "            return x.to(device=device)\n",
    "        return torch.as_tensor(x, device=device, dtype=torch.long)\n",
    "\n",
    "    # Accept either 2 or 3 lists in idx_sol; we only need the first two (u1, u2) for diag rules you showed\n",
    "    idx_u1 = _as_idx(idx_sol[0])\n",
    "    idx_u2 = _as_idx(idx_sol[1])\n",
    "\n",
    "    # Initial guess\n",
    "    if u0 is None:\n",
    "        u = torch.zeros(N, dtype=dtype, device=device, requires_grad=True)\n",
    "    else:\n",
    "        u = u0.detach().to(device=device, dtype=dtype).requires_grad_(True)\n",
    "\n",
    "    def residual(u_vec):\n",
    "        # Build diag_vector_1 and diag_vector_2 from u\n",
    "        d1 = torch.zeros_like(u_vec)\n",
    "        d2 = torch.zeros_like(u_vec)\n",
    "\n",
    "        d1.index_copy_(0, idx_u1, u_vec.index_select(0, idx_u1))\n",
    "        d1.index_copy_(0, idx_u2, u_vec.index_select(0, idx_u1))\n",
    "\n",
    "        \n",
    "        d2.index_copy_(0, idx_u1, u_vec.index_select(0, idx_u2))\n",
    "        d2.index_copy_(0, idx_u2, u_vec.index_select(0, idx_u2))\n",
    "\n",
    "        # Compute the convection term\n",
    "        conv = d1 * (B1 @ u_vec) + d2 * (B2 @ u_vec)\n",
    "\n",
    "        # Compute the linear term\n",
    "        lin  = A @ u_vec\n",
    "\n",
    "        return lin + conv - load_vector\n",
    "\n",
    "    # Norm helper\n",
    "    def norm(x):\n",
    "        return torch.linalg.norm(x)\n",
    "\n",
    "    # Stopping threshold\n",
    "    rhs_norm = max(norm(load_vector).item(), 1.0)\n",
    "    target_tol = max(atol, rtol * rhs_norm)\n",
    "\n",
    "    history = []\n",
    "\n",
    "    for it in range(1, max_iters + 1):\n",
    "        \n",
    "        err = residual(u)\n",
    "        err_norm = norm(err).item()\n",
    "        history.append(err_norm)\n",
    "\n",
    "        if verbose:\n",
    "            print(f\"[Newton] iter {it:02d}  ||res||={err_norm:.3e}  tol={target_tol:.3e}\")\n",
    "\n",
    "        if err_norm <= target_tol:\n",
    "            if verbose:\n",
    "                print(\"[Newton] Converged by residual.\")\n",
    "            return u.detach(), {\"converged\": True, \"iters\": it, \"res_norm\": err_norm, \"history\": history}\n",
    "\n",
    "        # Jacobian via autograd\n",
    "        with torch.enable_grad():\n",
    "            def _err_for_jac(x):\n",
    "                return residual(x)\n",
    "\n",
    "            J = torch.autograd.functional.jacobian(_err_for_jac, u, create_graph=False, vectorize=True)  # [N,N]\n",
    "\n",
    "        # Solve for Newton step: J * du = -err\n",
    "        try:\n",
    "            du = torch.linalg.solve(J, -err)\n",
    "        except torch.linalg.LinAlgError:\n",
    "            # Fallback to least-squares if singular\n",
    "            du, *_ = torch.linalg.lstsq(J, -err.unsqueeze(1))\n",
    "            du = du.squeeze(1)\n",
    "\n",
    "        step_norm = norm(du).item()\n",
    "\n",
    "        # Line search (backtracking) to ensure residual decreases\n",
    "        alpha = 1.0\n",
    "        if line_search:\n",
    "            err_norm_curr = err_norm\n",
    "            while alpha >= ls_min_alpha:\n",
    "                u_trial = (u + alpha * du).detach().requires_grad_(True)\n",
    "                err_trial = residual(u_trial)\n",
    "                if norm(err_trial) < err_norm_curr:\n",
    "                    u = u_trial\n",
    "                    break\n",
    "                alpha *= ls_shrink\n",
    "            else:\n",
    "                # Could not find a descent step; accept smallest step to avoid stall\n",
    "                u = (u + alpha * du).detach().requires_grad_(True)\n",
    "        else:\n",
    "            u = (u + du).detach().requires_grad_(True)\n",
    "\n",
    "        if verbose:\n",
    "            print(f\"         step_norm={step_norm:.3e}, alpha={alpha:.2e}\")\n",
    "\n",
    "        if step_norm <= max(1e-14, 1e-12 * max(1.0, norm(u).item())):\n",
    "            if verbose:\n",
    "                print(\"[Newton] Converged by small step.\")\n",
    "            return u.detach(), {\"converged\": True, \"iters\": it, \"res_norm\": err_norm, \"history\": history}\n",
    "\n",
    "    if verbose:\n",
    "        print(\"[Newton] Reached max iterations without convergence.\")\n",
    "    return u.detach(), {\"converged\": False, \"iters\": max_iters, \"res_norm\": history[-1], \"history\": history}"
   ]
  },
  {
   "cell_type": "code",
   "execution_count": 43,
   "id": "bf689375",
   "metadata": {},
   "outputs": [
    {
     "name": "stdout",
     "output_type": "stream",
     "text": [
      "[Newton] iter 01  ||res||=1.607e-02  tol=1.000e-10\n",
      "         step_norm=2.852e+01, alpha=5.00e-01\n",
      "[Newton] iter 02  ||res||=6.299e-03  tol=1.000e-10\n",
      "         step_norm=2.578e+01, alpha=1.00e+00\n",
      "[Newton] iter 03  ||res||=3.074e-03  tol=1.000e-10\n",
      "         step_norm=4.336e+01, alpha=1.00e+00\n",
      "[Newton] iter 04  ||res||=2.908e-03  tol=1.000e-10\n",
      "         step_norm=1.955e+01, alpha=1.00e+00\n",
      "[Newton] iter 05  ||res||=2.120e-03  tol=1.000e-10\n",
      "         step_norm=8.099e-01, alpha=1.00e+00\n",
      "[Newton] iter 06  ||res||=2.868e-05  tol=1.000e-10\n",
      "         step_norm=1.841e-01, alpha=1.00e+00\n",
      "[Newton] iter 07  ||res||=8.342e-08  tol=1.000e-10\n",
      "         step_norm=1.013e-03, alpha=1.00e+00\n",
      "[Newton] iter 08  ||res||=1.693e-12  tol=1.000e-10\n",
      "[Newton] Converged by residual.\n",
      "Converged: True iters: 8 final ||res||: 1.692640277448737e-12\n"
     ]
    }
   ],
   "source": [
    "# All tensors should be on the same device & dtype (prefer float64 for PDEs)\n",
    "A = A.to(torch.float64)\n",
    "B1 = B1.to(torch.float64)\n",
    "B2 = B2.to(torch.float64)\n",
    "load_vector = load_vector.to(torch.float64)\n",
    "\n",
    "# idx_sol must contain at least [idx_u1, idx_u2]\n",
    "u_newton, info = newton_solve_nonlinear_system(\n",
    "    A, B1, B2, load_vector, idx_sol=(idx_sol[0], idx_sol[1]),\n",
    "    u0=None, max_iters=20, rtol=1e-10, atol=1e-10, line_search=True, verbose=True\n",
    ")\n",
    "\n",
    "print(\"Converged:\", info[\"converged\"], \"iters:\", info[\"iters\"], \"final ||res||:\", info[\"res_norm\"])"
   ]
  },
  {
   "cell_type": "markdown",
   "id": "d3643375",
   "metadata": {},
   "source": [
    "### Compare errors with unsorted and sorted fenics vectors"
   ]
  },
  {
   "cell_type": "markdown",
   "id": "1d73bfb2",
   "metadata": {},
   "source": [
    "Errors for sorted coeff vectors are small, but higher than the linear Stokes case"
   ]
  },
  {
   "cell_type": "code",
   "execution_count": 44,
   "id": "0f34c8d1",
   "metadata": {},
   "outputs": [
    {
     "name": "stdout",
     "output_type": "stream",
     "text": [
      "Errors for unsorted coeff vectors\n",
      "u1: 0.004984761255446791\n",
      "u2: 0.023682540105429965\n",
      "p: 0.07360696047770356\n",
      "Errors for sorted coeff vectors\n",
      "u1: 0.004984761255446791\n",
      "u2: 9.429550559385803e-05\n",
      "p: 0.0001815939918452539\n"
     ]
    }
   ],
   "source": [
    "print(\"Errors for unsorted coeff vectors\")\n",
    "print(\"u1:\", np.linalg.norm(sol_u1 - u_newton[idx_u1]))\n",
    "print(\"u2:\", np.linalg.norm(sol_u2 - u_newton[idx_u2]))\n",
    "print(\"p:\" , np.linalg.norm(sol_p - u_newton[idx_p]))\n",
    "print(\"Errors for sorted coeff vectors\")\n",
    "print(\"u1:\", np.linalg.norm(sol_u1_ordered - u_newton[idx_u1]))\n",
    "print(\"u2:\", np.linalg.norm(sol_u2_ordered - u_newton[idx_u2]))\n",
    "print(\"p:\" , np.linalg.norm(sol_p_ordered - u_newton[idx_p]))"
   ]
  },
  {
   "cell_type": "code",
   "execution_count": 48,
   "id": "157e8cff",
   "metadata": {},
   "outputs": [
    {
     "name": "stdout",
     "output_type": "stream",
     "text": [
      "u1: 0.004984761255446791\n",
      "u2: 9.429550559385803e-05\n",
      "p: 0.0001815939918452539\n"
     ]
    }
   ],
   "source": [
    "inv_perm_u1 = np.empty_like(perm_u1)\n",
    "inv_perm_u1[perm_u1] = np.arange(len(perm_u1))\n",
    "\n",
    "inv_perm_u2 = np.empty_like(perm_u2)\n",
    "inv_perm_u2[perm_u2] = np.arange(len(perm_u2))\n",
    "\n",
    "inv_perm_p = np.empty_like(perm_p)\n",
    "inv_perm_p[perm_p] = np.arange(len(perm_p))\n",
    "\n",
    "print(\"u1:\", np.linalg.norm(sol_u1 - u_newton[idx_u1][inv_perm_u1]))\n",
    "print(\"u2:\", np.linalg.norm(sol_u2 - u_newton[idx_u2][inv_perm_u2]))\n",
    "print(\"p:\" , np.linalg.norm(sol_p - u_newton[idx_p][inv_perm_p]))"
   ]
  },
  {
   "cell_type": "markdown",
   "id": "6c4b8431",
   "metadata": {},
   "source": [
    "#### Since u_{answer} was created using sol_u1, sol_u2 and sol_p, the error is zero (but only for the sorted fenics vectors!)"
   ]
  },
  {
   "cell_type": "code",
   "execution_count": 45,
   "id": "0e50c355",
   "metadata": {},
   "outputs": [
    {
     "name": "stdout",
     "output_type": "stream",
     "text": [
      "Errors for unsorted coeff vectors\n",
      "u1: 0.0\n",
      "u2: 0.02368239083730024\n",
      "p: 0.07359240679573713\n",
      "Errors for sorted coeff vectors\n",
      "u1: 0.0\n",
      "u2: 0.0\n",
      "p: 0.0\n"
     ]
    }
   ],
   "source": [
    "print(\"Errors for unsorted coeff vectors\")\n",
    "print(\"u1:\", np.linalg.norm(sol_u1 - u_answer[idx_sol[0]]))\n",
    "print(\"u2:\", np.linalg.norm(sol_u2 - u_answer[idx_sol[1]]))\n",
    "print(\"p:\" , np.linalg.norm(sol_p - u_answer[idx_sol[2]]))\n",
    "print(\"Errors for sorted coeff vectors\")\n",
    "sol_u1_ordered = sol_u1[perm_u1]\n",
    "sol_u2_ordered = sol_u2[perm_u2]\n",
    "sol_p_ordered = sol_p[perm_p]\n",
    "print(\"u1:\", np.linalg.norm(sol_u1_ordered - u_answer[idx_sol[0]]))\n",
    "print(\"u2:\", np.linalg.norm(sol_u2_ordered - u_answer[idx_sol[1]]))\n",
    "print(\"p:\" , np.linalg.norm(sol_p_ordered - u_answer[idx_sol[2]]))"
   ]
  },
  {
   "cell_type": "markdown",
   "id": "32ca9f90",
   "metadata": {},
   "source": [
    "#### u_answer is less accurate for the nonlinear system (which means the fenics vectors don't satisfy the nonlinear system of equations exactly)"
   ]
  },
  {
   "cell_type": "code",
   "execution_count": 46,
   "id": "c277c15c",
   "metadata": {},
   "outputs": [
    {
     "name": "stdout",
     "output_type": "stream",
     "text": [
      "tensor(2.6505e-07, dtype=torch.float64)\n",
      "tensor(0.0017, dtype=torch.float64)\n"
     ]
    }
   ],
   "source": [
    "matrix_u1=torch.zeros_like(B1)\n",
    "matrix_u1[idx_sol[0],idx_sol[0]]=u_answer[idx_sol[0]]\n",
    "matrix_u1[idx_sol[1],idx_sol[1]]=u_answer[idx_sol[0]]\n",
    "\n",
    "matrix_u2=torch.zeros_like(B1)\n",
    "matrix_u2[idx_sol[0],idx_sol[0]]=u_answer[idx_sol[1]]\n",
    "matrix_u2[idx_sol[1],idx_sol[1]]=u_answer[idx_sol[1]]\n",
    "\n",
    "B=matrix_u1@B1+matrix_u2@B2\n",
    "\n",
    "LHS = (A+B)@u_answer.reshape(-1,1)\n",
    "LHS = LHS.reshape(-1)\n",
    "RHS = load_vector\n",
    "print(torch.abs(LHS-RHS).mean())\n",
    "print(torch.abs(LHS-RHS).mean() / torch.abs(RHS).mean())"
   ]
  },
  {
   "cell_type": "code",
   "execution_count": 47,
   "id": "55ec3d96",
   "metadata": {},
   "outputs": [
    {
     "data": {
      "text/plain": [
       "tensor(9.9480e-11, dtype=torch.float64)"
      ]
     },
     "execution_count": 47,
     "metadata": {},
     "output_type": "execute_result"
    }
   ],
   "source": [
    "matrix_u1=torch.zeros_like(B1)\n",
    "matrix_u1[idx_sol[0],idx_sol[0]]=u_newton[idx_sol[0]]\n",
    "matrix_u1[idx_sol[1],idx_sol[1]]=u_newton[idx_sol[0]]\n",
    "\n",
    "matrix_u2=torch.zeros_like(B1)\n",
    "matrix_u2[idx_sol[0],idx_sol[0]]=u_newton[idx_sol[1]]\n",
    "matrix_u2[idx_sol[1],idx_sol[1]]=u_newton[idx_sol[1]]\n",
    "\n",
    "B=matrix_u1@B1+matrix_u2@B2\n",
    "\n",
    "LHS = (A+B)@u_newton\n",
    "LHS = LHS\n",
    "RHS = load_vector\n",
    "torch.abs(LHS-RHS).mean() / torch.abs(RHS).mean()"
   ]
  }
 ],
 "metadata": {
  "colab": {
   "provenance": [
    {
     "file_id": "14hcyB7qdFsqk8KYPj8wfBcmSclJW7qww",
     "timestamp": 1710412589815
    },
    {
     "file_id": "1ZicuUlWRavdrkoCAG3yMyYdkPHJwR3px",
     "timestamp": 1710161985590
    },
    {
     "file_id": "1s1NjTU9IsejXTQKOPEfSCLJbN5WzdlmN",
     "timestamp": 1680194315277
    }
   ]
  },
  "kernelspec": {
   "display_name": "fenics",
   "language": "python",
   "name": "python3"
  },
  "language_info": {
   "codemirror_mode": {
    "name": "ipython",
    "version": 3
   },
   "file_extension": ".py",
   "mimetype": "text/x-python",
   "name": "python",
   "nbconvert_exporter": "python",
   "pygments_lexer": "ipython3",
   "version": "3.11.12"
  }
 },
 "nbformat": 4,
 "nbformat_minor": 5
}
